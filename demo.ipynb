{
 "cells": [
  {
   "cell_type": "code",
   "execution_count": 6,
   "metadata": {},
   "outputs": [],
   "source": [
    "from paddleocr import PaddleOCR,draw_ocr\n",
    "from PIL import Image\n",
    "from PIL import ImageDraw"
   ]
  },
  {
   "cell_type": "code",
   "execution_count": 7,
   "metadata": {},
   "outputs": [
    {
     "name": "stdout",
     "output_type": "stream",
     "text": [
      "[2022/10/02 15:52:33] ppocr DEBUG: Namespace(help='==SUPPRESS==', use_gpu=False, use_xpu=False, ir_optim=True, use_tensorrt=False, min_subgraph_size=15, shape_info_filename=None, precision='fp32', gpu_mem=500, image_dir=None, det_algorithm='DB', det_model_dir='C:\\\\Users\\\\25814/.paddleocr/whl\\\\det\\\\ch\\\\ch_PP-OCRv3_det_infer', det_limit_side_len=960, det_limit_type='max', det_db_thresh=0.3, det_db_box_thresh=0.6, det_db_unclip_ratio=1.5, max_batch_size=10, use_dilation=False, det_db_score_mode='fast', det_east_score_thresh=0.8, det_east_cover_thresh=0.1, det_east_nms_thresh=0.2, det_sast_score_thresh=0.5, det_sast_nms_thresh=0.2, det_sast_polygon=False, det_pse_thresh=0, det_pse_box_thresh=0.85, det_pse_min_area=16, det_pse_box_type='quad', det_pse_scale=1, scales=[8, 16, 32], alpha=1.0, beta=1.0, fourier_degree=5, det_fce_box_type='poly', rec_algorithm='SVTR_LCNet', rec_model_dir='C:\\\\Users\\\\25814/.paddleocr/whl\\\\rec\\\\ch\\\\ch_PP-OCRv3_rec_infer', rec_image_shape='3, 48, 320', rec_batch_num=6, max_text_length=25, rec_char_dict_path='c:\\\\Users\\\\25814\\\\AppData\\\\Local\\\\Programs\\\\Python\\\\Python310\\\\lib\\\\site-packages\\\\paddleocr\\\\ppocr\\\\utils\\\\ppocr_keys_v1.txt', use_space_char=True, vis_font_path='./doc/fonts/simfang.ttf', drop_score=0.5, e2e_algorithm='PGNet', e2e_model_dir=None, e2e_limit_side_len=768, e2e_limit_type='max', e2e_pgnet_score_thresh=0.5, e2e_char_dict_path='./ppocr/utils/ic15_dict.txt', e2e_pgnet_valid_set='totaltext', e2e_pgnet_mode='fast', use_angle_cls=True, cls_model_dir='C:\\\\Users\\\\25814/.paddleocr/whl\\\\cls\\\\ch_ppocr_mobile_v2.0_cls_infer', cls_image_shape='3, 48, 192', label_list=['0', '180'], cls_batch_num=6, cls_thresh=0.9, enable_mkldnn=False, cpu_threads=10, use_pdserving=False, warmup=False, sr_model_dir=None, sr_image_shape='3, 32, 128', sr_batch_num=1, draw_img_save_dir='./inference_results', save_crop_res=False, crop_res_save_dir='./output', use_mp=False, total_process_num=1, process_id=0, benchmark=False, save_log_path='./log_output/', show_log=True, use_onnx=False, output='./output', table_max_len=488, table_algorithm='TableAttn', table_model_dir=None, merge_no_span_structure=True, table_char_dict_path=None, layout_model_dir=None, layout_dict_path=None, layout_score_threshold=0.5, layout_nms_threshold=0.5, kie_algorithm='LayoutXLM', ser_model_dir=None, ser_dict_path='../train_data/XFUND/class_list_xfun.txt', ocr_order_method=None, mode='structure', image_orientation=False, layout=True, table=True, ocr=True, recovery=False, save_pdf=False, lang='ch', det=True, rec=True, type='ocr', ocr_version='PP-OCRv3', structure_version='PP-Structurev2')\n"
     ]
    }
   ],
   "source": [
    "ocr = PaddleOCR(use_angle_cls=True, lang='ch') # need to run only once to download and load model intoTkinter memory\n",
    "# target_dir = ['南京银行录音设备', '宁波影像设备采购', '上海市分行验印摄像仪', '深圳分行验印', '信用合作清算中心验印', '亚太财险']\n",
    "# img_filename = ['1', '2', '3', '4', '5']\n",
    "target_dir = ['南京银行录音设备']\n",
    "img_filename = ['2']"
   ]
  },
  {
   "cell_type": "code",
   "execution_count": 8,
   "metadata": {},
   "outputs": [],
   "source": [
    "def print_diff(i, origin, origin_text, scan, scan_text):\n",
    "    print(f'file: {origin}')\n",
    "    print(f'data: {origin_text}')\n",
    "    print(f'file: {scan}')\n",
    "    print(f'data: {scan_text}')\n",
    "    print(f'i: {i}')\n",
    "    print()"
   ]
  },
  {
   "cell_type": "code",
   "execution_count": 9,
   "metadata": {},
   "outputs": [],
   "source": [
    "def compare(origin, scan, save):\n",
    "    diff_pos = []\n",
    "    origin_result = ocr.ocr(origin, cls=True)\n",
    "    scan_result = ocr.ocr(scan, cls=True)\n",
    "    for i in range(len(origin_result)):\n",
    "        if origin_result[i][1][0] != scan_result[i][1][0]:\n",
    "            diff_pos.append([origin_result[i][0], scan_result[i][0]])\n",
    "            # print_diff(i, origin, origin_result[i][1][0], scan, scan_result[i][1][0])\n",
    "\n",
    "    if len(diff_pos) == 0:\n",
    "        return\n",
    "    \n",
    "    print(diff_pos)\n",
    "    \n",
    "    img_origin = Image.open(origin)\n",
    "    img_draw_origin = ImageDraw.ImageDraw(img_origin)\n",
    "    img_scan = Image.open(scan)\n",
    "    img_draw_scan = ImageDraw.ImageDraw(img_scan)\n",
    "    for diff in diff_pos:\n",
    "        img_draw_origin.rectangle(((diff[0][0][0], diff[0][0][1]),(diff[0][2][0], diff[0][2][1])), fill=None, outline='red', width=5) \n",
    "        img_draw_scan.rectangle(((diff[1][0][0], diff[1][0][1]),(diff[1][2][0], diff[1][2][1])), fill=None, outline='red', width=5) \n",
    "    \n",
    "    result = Image.new(\"RGB\", (img_origin.size[0] + img_scan.size[0], img_origin.size[1]))\n",
    "    loc1, loc2 = (0, 0), (img_origin.size[0], 0)\n",
    "    result.paste(img_origin, loc1)\n",
    "    result.paste(img_scan, loc2)\n",
    "    result.save(save + 'result.jpg')"
   ]
  },
  {
   "cell_type": "code",
   "execution_count": 10,
   "metadata": {},
   "outputs": [],
   "source": [
    "# origin = './img/' + target_dir[0] + \"/origin/2.jpg\"\n",
    "# scan = './img/' + target_dir[0] + \"/scan/2.JPG\"\n",
    "# compare(origin, scan)"
   ]
  },
  {
   "cell_type": "code",
   "execution_count": 11,
   "metadata": {},
   "outputs": [],
   "source": [
    "# result = ocr.ocr(img_path, cls=True)\n",
    "# print(result)\n",
    "# for line in result:\n",
    "#     print(line)"
   ]
  },
  {
   "cell_type": "code",
   "execution_count": 12,
   "metadata": {},
   "outputs": [
    {
     "name": "stdout",
     "output_type": "stream",
     "text": [
      "[2022/10/02 15:52:34] ppocr DEBUG: dt_boxes num : 43, elapse : 0.5206010341644287\n",
      "[2022/10/02 15:52:35] ppocr DEBUG: cls num  : 43, elapse : 0.3879995346069336\n",
      "[2022/10/02 15:52:44] ppocr DEBUG: rec_res num  : 43, elapse : 9.852084875106812\n",
      "[2022/10/02 15:52:45] ppocr DEBUG: dt_boxes num : 44, elapse : 0.5496582984924316\n",
      "[2022/10/02 15:52:45] ppocr DEBUG: cls num  : 44, elapse : 0.44699692726135254\n",
      "[2022/10/02 15:52:55] ppocr DEBUG: rec_res num  : 44, elapse : 9.907248973846436\n",
      "[[[[933.0, 202.0], [1396.0, 202.0], [1396.0, 236.0], [933.0, 236.0]], [[294.0, 211.0], [794.0, 214.0], [793.0, 248.0], [294.0, 245.0]]], [[[258.0, 205.0], [753.0, 205.0], [753.0, 239.0], [258.0, 239.0]], [[974.0, 218.0], [1436.0, 218.0], [1436.0, 250.0], [974.0, 250.0]]], [[[347.0, 312.0], [709.0, 312.0], [709.0, 346.0], [347.0, 346.0]], [[388.0, 321.0], [749.0, 321.0], [749.0, 356.0], [388.0, 356.0]]], [[[246.0, 395.0], [519.0, 395.0], [519.0, 436.0], [246.0, 436.0]], [[287.0, 405.0], [561.0, 405.0], [561.0, 447.0], [287.0, 447.0]]], [[[768.0, 395.0], [1044.0, 395.0], [1044.0, 436.0], [768.0, 436.0]], [[806.0, 407.0], [1080.0, 407.0], [1080.0, 449.0], [806.0, 449.0]]], [[[251.0, 938.0], [581.0, 938.0], [581.0, 979.0], [251.0, 979.0]], [[294.0, 950.0], [618.0, 950.0], [618.0, 984.0], [294.0, 984.0]]]]\n"
     ]
    }
   ],
   "source": [
    "for t_dir in target_dir:\n",
    "    for i_name in img_filename:\n",
    "        origin = './img/' + t_dir + '/origin/' + i_name + '.jpg'\n",
    "        scan = './img/' + t_dir + '/scan/' + i_name + '.JPG'\n",
    "        save = './img/' + t_dir + '/'\n",
    "        compare(origin, scan, save)"
   ]
  },
  {
   "cell_type": "code",
   "execution_count": 13,
   "metadata": {},
   "outputs": [],
   "source": [
    "# draw result\n",
    "# image = Image.open(img_path).convert('RGB')\n",
    "# boxes = [line[0] for line in result]\n",
    "# txts = [line[1][0] for line in result]\n",
    "# scores = [line[1][1] for line in result]\n",
    "# im_show = draw_ocr(image, boxes, txts, scores, font_path='./fonts/simfang.ttf')\n",
    "# im_show = Image.fromarray(im_show)\n",
    "# im_show.save('./img/result.jpg')"
   ]
  }
 ],
 "metadata": {
  "kernelspec": {
   "display_name": "Python 3.10.5 64-bit",
   "language": "python",
   "name": "python3"
  },
  "language_info": {
   "codemirror_mode": {
    "name": "ipython",
    "version": 3
   },
   "file_extension": ".py",
   "mimetype": "text/x-python",
   "name": "python",
   "nbconvert_exporter": "python",
   "pygments_lexer": "ipython3",
   "version": "3.10.5"
  },
  "orig_nbformat": 4,
  "vscode": {
   "interpreter": {
    "hash": "719d1ba2a56933e3225a4ce5a6b623ad0990912c1a8e177d0a4cf9de383c4ff3"
   }
  }
 },
 "nbformat": 4,
 "nbformat_minor": 2
}
